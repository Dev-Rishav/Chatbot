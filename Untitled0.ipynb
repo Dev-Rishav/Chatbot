{
  "nbformat": 4,
  "nbformat_minor": 0,
  "metadata": {
    "colab": {
      "provenance": [],
      "gpuType": "T4",
      "authorship_tag": "ABX9TyOjkPXwdZbHCOVDx08i4rl9",
      "include_colab_link": true
    },
    "kernelspec": {
      "name": "python3",
      "display_name": "Python 3"
    },
    "language_info": {
      "name": "python"
    },
    "accelerator": "GPU"
  },
  "cells": [
    {
      "cell_type": "markdown",
      "metadata": {
        "id": "view-in-github",
        "colab_type": "text"
      },
      "source": [
        "<a href=\"https://colab.research.google.com/github/Dev-Rishav/Chatbot/blob/main/Untitled0.ipynb\" target=\"_parent\"><img src=\"https://colab.research.google.com/assets/colab-badge.svg\" alt=\"Open In Colab\"/></a>"
      ]
    },
    {
      "cell_type": "code",
      "execution_count": null,
      "metadata": {
        "id": "k4EogB9iCZq0",
        "colab": {
          "base_uri": "https://localhost:8080/"
        },
        "outputId": "015bef07-9902-4a4e-9c15-cf832e7537c7"
      },
      "outputs": [
        {
          "output_type": "stream",
          "name": "stdout",
          "text": [
            "\n",
            "🧠 Ask your question (or type 'exit'): in whcih year manit was established?\n",
            "🤖 Question: in whcih year manit was established?? Answer: MANIT is an established campus. MANIT has a large, multicultural community. MANIT has great facilities. MANIT is a UG, PG, and doctoral system. MANIT has a large, multicultural community. MANIT has great facilities. MANIT is a UG, PG, and doctoral system. MANIT has great facilities.\n",
            "\n",
            "🧠 Ask your question (or type 'exit'): In which year manit was established?\n",
            "🤖 Question: In which year manit was established?? Answer: Manit was established in 1960. MANIT has 200 students. MANIT has a special place in the heart of Chinese culture. MANIT has a large Muslim population. MANIT is an international program. Questions: What is the Muslim student organization? Answer: Muslim Student Organization. question: What is the Muslim student motto? Answer: \"Knowledge is Power\". Questions: What is the student body size in hostels? Answer: There are 5,007 students. Question: What is the total size of hostels? Answer: 7,026 students.\n",
            "Question: Which year has an ‘A’ grade from MANIT? Answer: Mature NRI boys' hostels (2014-2017). MANIT has a large Muslim population. MANIT has a special place in the heart of Chinese culture. MANIT has a large Muslim population. MANIT is an international program. Questions: What is the Muslim student\n"
          ]
        }
      ],
      "source": [
        "import torch\n",
        "from transformers import AutoTokenizer, AutoModelForCausalLM\n",
        "\n",
        "# Check device\n",
        "device = torch.device(\"cuda\" if torch.cuda.is_available() else \"cpu\")\n",
        "\n",
        "# Path to the saved model directory\n",
        "model_path = \"/content/opt_collegebot\"  # change if your path is different\n",
        "\n",
        "# Load the fine-tuned model and tokenizer\n",
        "tokenizer = AutoTokenizer.from_pretrained(model_path)\n",
        "model = AutoModelForCausalLM.from_pretrained(model_path).to(device)\n",
        "\n",
        "# Text generation function\n",
        "def generate_answer(prompt, max_length=200):\n",
        "    model.eval()\n",
        "    inputs = tokenizer(prompt, return_tensors=\"pt\").to(device)\n",
        "    with torch.no_grad():\n",
        "        outputs = model.generate(\n",
        "            **inputs,\n",
        "            max_length=max_length,\n",
        "            pad_token_id=tokenizer.eos_token_id,\n",
        "            do_sample=True,\n",
        "            top_p=0.95,\n",
        "            temperature=0.9\n",
        "        )\n",
        "    return tokenizer.decode(outputs[0], skip_special_tokens=True)\n",
        "\n",
        "# Ask questions interactively\n",
        "while True:\n",
        "    user_question = input(\"\\n🧠 Ask your question (or type 'exit'): \")\n",
        "    if user_question.lower() in ['exit', 'quit']:\n",
        "        break\n",
        "    full_prompt = f\"Question: {user_question}? Answer:\"\n",
        "    response = generate_answer(full_prompt)\n",
        "    print(\"🤖\", response)\n"
      ]
    }
  ]
}