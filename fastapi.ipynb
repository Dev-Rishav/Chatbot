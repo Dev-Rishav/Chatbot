{
 "cells": [
  {
   "cell_type": "code",
   "execution_count": null,
   "id": "7db07054",
   "metadata": {
    "vscode": {
     "languageId": "plaintext"
    }
   },
   "outputs": [],
   "source": [
    "from fastapi import FastAPI\n",
    "from fastapi.middleware.cors import CORSMiddleware\n",
    "from pydantic import BaseModel\n",
    "from transformers import AutoTokenizer, AutoModelForCausalLM\n",
    "from pyngrok import ngrok\n",
    "import torch\n",
    "from uvicorn import run\n",
    "from threading import Thread\n",
    "\n",
    "# Initialize FastAPI app\n",
    "app = FastAPI()\n",
    "\n",
    "# ✅ Add CORS Middleware\n",
    "app.add_middleware(\n",
    "    CORSMiddleware,\n",
    "    allow_origins=[\"*\"],  # Or use [\"http://localhost:5173\"] for more security\n",
    "    allow_credentials=True,\n",
    "    allow_methods=[\"*\"],\n",
    "    allow_headers=[\"*\"],\n",
    ")\n",
    "\n",
    "# Load the model and tokenizer\n",
    "model_path = '/content/opt_collegebot'  # Update with actual model path in Colab\n",
    "model = AutoModelForCausalLM.from_pretrained(model_path).to('cuda')\n",
    "tokenizer = AutoTokenizer.from_pretrained(model_path)\n",
    "\n",
    "# Request body schema\n",
    "class RequestBody(BaseModel):\n",
    "    question: str\n",
    "\n",
    "# API endpoint\n",
    "@app.post(\"/predict/\")\n",
    "async def predict(body: RequestBody):\n",
    "    input_text = f\"Question: {body.question} Answer:\"\n",
    "    inputs = tokenizer(input_text, return_tensors=\"pt\").to(\"cuda\")\n",
    "    output = model.generate(inputs['input_ids'], max_length=100)\n",
    "    response = tokenizer.decode(output[0], skip_special_tokens=True)\n",
    "    return {\"response\": response}\n",
    "\n",
    "# Start FastAPI server\n",
    "def run_server():\n",
    "    run(app, host=\"0.0.0.0\", port=8000)\n",
    "\n",
    "server_thread = Thread(target=run_server)\n",
    "server_thread.start()\n",
    "\n",
    "# Authenticate and expose via ngrok\n",
    "ngrok.set_auth_token(\"2w8mC9wteCIN2hvIYh7W9FIJTAQ_83dHxJNxfTMZUaw2wiivq\")\n",
    "public_url = ngrok.connect(8000)\n",
    "print(f\"🚀 Public API URL: {public_url}\")\n"
   ]
  }
 ],
 "metadata": {
  "language_info": {
   "name": "python"
  }
 },
 "nbformat": 4,
 "nbformat_minor": 5
}
