{
 "cells": [
  {
   "cell_type": "code",
   "execution_count": null,
   "id": "1158d7e4",
   "metadata": {
    "vscode": {
     "languageId": "plaintext"
    }
   },
   "outputs": [],
   "source": [
    "import torch\n",
    "from transformers import AutoTokenizer, AutoModelForCausalLM\n",
    "\n",
    "# Check device\n",
    "device = torch.device(\"cuda\" if torch.cuda.is_available() else \"cpu\")\n",
    "\n",
    "# Path to the saved model directory\n",
    "model_path = \"/content/opt_collegebot\"  # change if your path is different\n",
    "\n",
    "# Load the fine-tuned model and tokenizer\n",
    "tokenizer = AutoTokenizer.from_pretrained(model_path)\n",
    "model = AutoModelForCausalLM.from_pretrained(model_path).to(device)\n",
    "\n",
    "# Text generation function\n",
    "def generate_answer(prompt, max_length=200):\n",
    "    model.eval()\n",
    "    inputs = tokenizer(prompt, return_tensors=\"pt\").to(device)\n",
    "    with torch.no_grad():\n",
    "        outputs = model.generate(\n",
    "            **inputs,\n",
    "            max_length=max_length,\n",
    "            pad_token_id=tokenizer.eos_token_id,\n",
    "            do_sample=True,\n",
    "            top_p=0.95,\n",
    "            temperature=0.9\n",
    "        )\n",
    "    return tokenizer.decode(outputs[0], skip_special_tokens=True)\n",
    "\n",
    "# Ask questions interactively\n",
    "while True:\n",
    "    user_question = input(\"\\n🧠 Ask your question (or type 'exit'): \")\n",
    "    if user_question.lower() in ['exit', 'quit']:\n",
    "        break\n",
    "    full_prompt = f\"Question: {user_question}? Answer:\"\n",
    "    response = generate_answer(full_prompt)\n",
    "    print(\"🤖\", response)\n"
   ]
  }
 ],
 "metadata": {
  "language_info": {
   "name": "python"
  }
 },
 "nbformat": 4,
 "nbformat_minor": 5
}
