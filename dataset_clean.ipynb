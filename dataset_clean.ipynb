{
 "cells": [
  {
   "cell_type": "markdown",
   "metadata": {},
   "source": [
    "# Clean TXT Dataset: Remove Duplicates & Add Tab After Question Marks\n",
    "This notebook:\n",
    "1. Reads a text file.\n",
    "2. Ensures a tab (`\\t`) follows every `?` if it's not already followed by a space or tab.\n",
    "3. Removes duplicate lines while preserving order.\n",
    "4. Writes the cleaned data to a new file."
   ]
  },
  {
   "cell_type": "code",
   "execution_count": 12,
   "metadata": {},
   "outputs": [
    {
     "name": "stdout",
     "output_type": "stream",
     "text": [
      "✅ Processing complete. Cleaned file saved as: cleaned_dataset.txt\n"
     ]
    }
   ],
   "source": [
    "import re\n",
    "\n",
    "# Define input and output file paths\n",
    "input_file = 'data-set.txt'  # Replace with your actual file path\n",
    "output_file = 'cleaned_dataset.txt'\n",
    "\n",
    "# Read all lines from the input file\n",
    "with open(input_file, 'r', encoding='utf-8') as infile:\n",
    "    lines = infile.readlines()\n",
    "\n",
    "# Fix: Ensure every '?' is followed by a tab if not already followed by space or tab\n",
    "processed_lines = []\n",
    "for line in lines:\n",
    "    # Replace all ? not followed by tab or space with ?\\t\n",
    "    fixed_line = re.sub(r'\\?(?![\\t\\s])', '?\\t', line)\n",
    "    processed_lines.append(fixed_line)\n",
    "\n",
    "# Remove duplicates while preserving order\n",
    "unique_lines = list(dict.fromkeys(processed_lines))\n",
    "\n",
    "# Write the cleaned lines to the output file\n",
    "with open(output_file, 'w', encoding='utf-8') as outfile:\n",
    "    outfile.writelines(unique_lines)\n",
    "\n",
    "print(\"✅ Processing complete. Cleaned file saved as:\", output_file)\n"
   ]
  }
 ],
 "metadata": {
  "kernelspec": {
   "display_name": "Python 3",
   "language": "python",
   "name": "python3"
  },
  "language_info": {
   "name": "python",
   "version": ""
  }
 },
 "nbformat": 4,
 "nbformat_minor": 2
}
