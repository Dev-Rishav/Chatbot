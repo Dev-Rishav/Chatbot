{
 "cells": [
  {
   "cell_type": "code",
   "execution_count": 1,
   "id": "ac18dfb4",
   "metadata": {},
   "outputs": [],
   "source": [
    "from fastapi import FastAPI\n",
    "from pydantic import BaseModel\n",
    "import torch\n",
    "from transformers import AutoTokenizer, AutoModelForCausalLM\n",
    "import re\n",
    "import threading\n",
    "import uvicorn\n",
    "from fastapi.middleware.cors import CORSMiddleware\n"
   ]
  },
  {
   "cell_type": "code",
   "execution_count": 2,
   "id": "52116b07",
   "metadata": {},
   "outputs": [],
   "source": [
    "# Initialize the FastAPI app\n",
    "app = FastAPI()\n",
    "\n",
    "app.add_middleware(\n",
    "    CORSMiddleware,\n",
    "    allow_origins=[\"http://localhost:5173\"],  # Your frontend URL\n",
    "    allow_credentials=True,\n",
    "    allow_methods=[\"*\"],  # Allow all methods (GET, POST, etc.)\n",
    "    allow_headers=[\"*\"],  # Allow all headers\n",
    ")"
   ]
  },
  {
   "cell_type": "code",
   "execution_count": 3,
   "id": "fe58eb79",
   "metadata": {},
   "outputs": [
    {
     "name": "stdout",
     "output_type": "stream",
     "text": [
      "Server is running in the background.\n"
     ]
    },
    {
     "name": "stderr",
     "output_type": "stream",
     "text": [
      "INFO:     Started server process [154846]\n",
      "INFO:     Waiting for application startup.\n",
      "INFO:     Application startup complete.\n",
      "INFO:     Uvicorn running on http://127.0.0.1:8000 (Press CTRL+C to quit)\n"
     ]
    },
    {
     "name": "stdout",
     "output_type": "stream",
     "text": [
      "INFO:     127.0.0.1:45938 - \"POST /chat HTTP/1.1\" 200 OK\n"
     ]
    }
   ],
   "source": [
    "# Setup device\n",
    "device = torch.device(\"cuda\" if torch.cuda.is_available() else \"cpu\")\n",
    "\n",
    "# Load model and tokenizer\n",
    "model_path = \"./opt_collegebot\"\n",
    "tokenizer = AutoTokenizer.from_pretrained(model_path)\n",
    "model = AutoModelForCausalLM.from_pretrained(model_path).to(device)\n",
    "\n",
    "# Set pad token if missing\n",
    "if tokenizer.pad_token is None:\n",
    "    tokenizer.pad_token = tokenizer.eos_token\n",
    "model.eval()\n",
    "\n",
    "# Define chat function with improved answer extraction\n",
    "def chat(question, max_new_tokens=150):\n",
    "    prompt = f\"Question: {question}\\nAnswer:\"\n",
    "    inputs = tokenizer(prompt, return_tensors=\"pt\", truncation=True, max_length=1024).to(device)\n",
    "    \n",
    "    with torch.no_grad():\n",
    "        output = model.generate(\n",
    "            **inputs,\n",
    "            max_new_tokens=max_new_tokens,\n",
    "            pad_token_id=tokenizer.pad_token_id,\n",
    "            do_sample=True,\n",
    "            top_p=0.9,  # Adjust for diversity\n",
    "            temperature=0.7,  # Adjust for randomness\n",
    "            repetition_penalty=2.0,  # Prevent repetition\n",
    "            eos_token_id=tokenizer.eos_token_id\n",
    "        )\n",
    "    \n",
    "    # Decode and post-process\n",
    "    decoded = tokenizer.decode(output[0], skip_special_tokens=True)\n",
    "    \n",
    "    # Use regex to find the first answer block\n",
    "    answer_match = re.search(r'Answer:\\s*(.*?)(\\n\\n|Question:|$)', decoded, re.DOTALL)\n",
    "    if answer_match:\n",
    "        answer = answer_match.group(1).strip()\n",
    "    else:\n",
    "        answer = \"Sorry, I couldn't generate a proper response. Please try again.\"\n",
    "    \n",
    "    return answer\n",
    "\n",
    "# Create Pydantic model for the request body\n",
    "class ChatRequest(BaseModel):\n",
    "    question: str\n",
    "\n",
    "class ChatResponse(BaseModel):\n",
    "    answer: str\n",
    "\n",
    "# Define the chat API endpoint\n",
    "@app.post(\"/chat\", response_model=ChatResponse)\n",
    "async def chat_endpoint(request: ChatRequest):\n",
    "    user_question = request.question\n",
    "    try:\n",
    "        response = chat(user_question)\n",
    "    except Exception as e:\n",
    "        return {\"error\": str(e)}\n",
    "    return ChatResponse(answer=response)\n",
    "\n",
    "# Function to run the API using uvicorn in a separate thread\n",
    "def run_uvicorn():\n",
    "    uvicorn.run(app, host=\"127.0.0.1\", port=8000)\n",
    "\n",
    "# Run the server in a separate thread\n",
    "if __name__ == \"__main__\":\n",
    "    threading.Thread(target=run_uvicorn, daemon=True).start()\n",
    "    print(\"Server is running in the background.\")\n"
   ]
  }
 ],
 "metadata": {
  "kernelspec": {
   "display_name": "base",
   "language": "python",
   "name": "python3"
  },
  "language_info": {
   "codemirror_mode": {
    "name": "ipython",
    "version": 3
   },
   "file_extension": ".py",
   "mimetype": "text/x-python",
   "name": "python",
   "nbconvert_exporter": "python",
   "pygments_lexer": "ipython3",
   "version": "3.12.2"
  }
 },
 "nbformat": 4,
 "nbformat_minor": 5
}
