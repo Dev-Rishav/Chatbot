{
 "cells": [
  {
   "cell_type": "code",
   "execution_count": 6,
   "id": "4ed998dc",
   "metadata": {},
   "outputs": [
    {
     "name": "stdout",
     "output_type": "stream",
     "text": [
      "🤖 CollegeBot is ready! (type 'exit' to quit)\n",
      "\n",
      "👋 Goodbye!\n"
     ]
    }
   ],
   "source": [
    "# Setup device\n",
    "import torch\n",
    "from transformers import AutoTokenizer, AutoModelForCausalLM\n",
    "import re\n",
    "\n",
    "device = torch.device(\"cuda\" if torch.cuda.is_available() else \"cpu\")\n",
    "\n",
    "# Load model and tokenizer\n",
    "model_path = \"./opt_collegebot\"\n",
    "tokenizer = AutoTokenizer.from_pretrained(model_path)\n",
    "model = AutoModelForCausalLM.from_pretrained(model_path).to(device)\n",
    "\n",
    "# Set pad token if missing\n",
    "if tokenizer.pad_token is None:\n",
    "    tokenizer.pad_token = tokenizer.eos_token\n",
    "model.eval()\n",
    "\n",
    "# Define chat function with improved answer extraction\n",
    "def chat(question, max_new_tokens=150):\n",
    "    prompt = f\"Question: {question}\\nAnswer:\"\n",
    "    inputs = tokenizer(prompt, return_tensors=\"pt\", truncation=True, max_length=1024).to(device)\n",
    "    \n",
    "    with torch.no_grad():\n",
    "        output = model.generate(\n",
    "            **inputs,\n",
    "            max_new_tokens=max_new_tokens,\n",
    "            pad_token_id=tokenizer.pad_token_id,\n",
    "            do_sample=True,\n",
    "            top_p=0.95,\n",
    "            temperature=0.4,\n",
    "            eos_token_id=tokenizer.eos_token_id\n",
    "        )\n",
    "    \n",
    "    # Decode and post-process\n",
    "    decoded = tokenizer.decode(output[0], skip_special_tokens=True)\n",
    "    \n",
    "    # Use regex to find the first answer block\n",
    "    answer_match = re.search(r'Answer:\\s*(.*?)(\\n\\n|Question:|$)', decoded, re.DOTALL)\n",
    "    if answer_match:\n",
    "        answer = answer_match.group(1).strip()\n",
    "    else:\n",
    "        answer = \"Sorry, I couldn't generate a proper response. Please try again.\"\n",
    "    \n",
    "    return answer\n",
    "\n",
    "# Interactive chat loop\n",
    "print(\"🤖 CollegeBot is ready! (type 'exit' to quit)\\n\")\n",
    "\n",
    "while True:\n",
    "    user_question = input(\"You: \")\n",
    "    if user_question.lower() in {\"exit\", \"quit\", \"bye\"}:\n",
    "        print(\"👋 Goodbye!\")\n",
    "        break\n",
    "    \n",
    "    response = chat(user_question)\n",
    "    print(f\"Bot: {response}\\n\")"
   ]
  }
 ],
 "metadata": {
  "kernelspec": {
   "display_name": "base",
   "language": "python",
   "name": "python3"
  },
  "language_info": {
   "codemirror_mode": {
    "name": "ipython",
    "version": 3
   },
   "file_extension": ".py",
   "mimetype": "text/x-python",
   "name": "python",
   "nbconvert_exporter": "python",
   "pygments_lexer": "ipython3",
   "version": "3.12.2"
  }
 },
 "nbformat": 4,
 "nbformat_minor": 5
}
